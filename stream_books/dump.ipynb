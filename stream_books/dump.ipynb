{
 "cells": [
  {
   "cell_type": "markdown",
   "metadata": {},
   "source": [
    "## Dump Data"
   ]
  },
  {
   "cell_type": "code",
   "execution_count": null,
   "metadata": {},
   "outputs": [],
   "source": [
    "from stream_pack.dumplib.dump import insert_data_to_postgresql\n",
    "from pathlib import Path\n",
    "import pandas as pd\n",
    "import urllib.parse\n",
    "import os\n",
    "\n",
    "file_path = Path('../data/Old_Information.csv')\n",
    "csv_path = file_path.resolve()\n",
    "\n",
    "# Informasi koneksi ke PostgreSQL\n",
    "USERNAME = os.getenv(\"USER\")\n",
    "PASSWORD = os.getenv(\"PASSWORD\")\n",
    "HOST = os.getenv(\"HOST\")\n",
    "DATABASE = os.getenv(\"DB_NAME\")\n",
    "PASSWORD = urllib.parse.quote_plus(PASSWORD)\n",
    "\n",
    "# URL koneksi ke PostgreSQL\n",
    "db_url = f\"postgresql://{USERNAME}:{PASSWORD}@{HOST}/{DATABASE}?sslmode=require\"\n",
    "\n",
    "table_name = \"old_information\"\n",
    "insert_data_to_postgresql(csv_path, table_name, db_url)"
   ]
  }
 ],
 "metadata": {
  "kernelspec": {
   "display_name": "venv",
   "language": "python",
   "name": "python3"
  },
  "language_info": {
   "codemirror_mode": {
    "name": "ipython",
    "version": 3
   },
   "file_extension": ".py",
   "mimetype": "text/x-python",
   "name": "python",
   "nbconvert_exporter": "python",
   "pygments_lexer": "ipython3",
   "version": "3.12.0"
  }
 },
 "nbformat": 4,
 "nbformat_minor": 2
}
